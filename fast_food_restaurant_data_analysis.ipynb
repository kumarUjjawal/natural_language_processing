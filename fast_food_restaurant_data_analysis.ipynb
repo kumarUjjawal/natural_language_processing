{
 "cells": [
  {
   "cell_type": "markdown",
   "metadata": {},
   "source": [
    "## American Fast Food Restaurant's Data Analysis"
   ]
  },
  {
   "cell_type": "markdown",
   "metadata": {},
   "source": [
    "\n",
    "### Table of Contents:\n",
    "\n",
    "1. Input Dataset\n",
    "\n",
    "2. Take a peek at the data\n",
    "\n",
    "3. Let's check do we have missing data\n",
    "\n",
    "4. Let's drop id, keys, sourceURLs, and websites first\n",
    "\n",
    "5. Restaurants Names Exploration and Visualizations:\n",
    "\n",
    "6. NLP: More data cleaning\n",
    "\n",
    "7. Explore the food categories and visualize them\n",
    "\n",
    "8. Let's explore the location data of given dataset\n",
    "\n",
    "9. Ratio between restaurants opened and population"
   ]
  },
  {
   "cell_type": "code",
   "execution_count": 3,
   "metadata": {},
   "outputs": [
    {
     "name": "stdout",
     "output_type": "stream",
     "text": [
      "['Datafiniti_Fast_Food_Restaurants_May19.csv', 'US-Census-2017.txt', 'Datafiniti_Fast_Food_Restaurants.csv', 'FastFoodRestaurants.csv', 'US-2-letter-state-code.csv']\n"
     ]
    }
   ],
   "source": [
    "import numpy as np\n",
    "import pandas as pd\n",
    "import os\n",
    "\n",
    "print(os.listdir('./fast_food'))"
   ]
  },
  {
   "cell_type": "markdown",
   "metadata": {},
   "source": [
    "### Take a Peak at Data"
   ]
  },
  {
   "cell_type": "code",
   "execution_count": 4,
   "metadata": {},
   "outputs": [
    {
     "data": {
      "text/html": [
       "<div>\n",
       "<style scoped>\n",
       "    .dataframe tbody tr th:only-of-type {\n",
       "        vertical-align: middle;\n",
       "    }\n",
       "\n",
       "    .dataframe tbody tr th {\n",
       "        vertical-align: top;\n",
       "    }\n",
       "\n",
       "    .dataframe thead th {\n",
       "        text-align: right;\n",
       "    }\n",
       "</style>\n",
       "<table border=\"1\" class=\"dataframe\">\n",
       "  <thead>\n",
       "    <tr style=\"text-align: right;\">\n",
       "      <th></th>\n",
       "      <th>id</th>\n",
       "      <th>dateAdded</th>\n",
       "      <th>dateUpdated</th>\n",
       "      <th>address</th>\n",
       "      <th>categories</th>\n",
       "      <th>primaryCategories</th>\n",
       "      <th>city</th>\n",
       "      <th>country</th>\n",
       "      <th>keys</th>\n",
       "      <th>latitude</th>\n",
       "      <th>longitude</th>\n",
       "      <th>name</th>\n",
       "      <th>postalCode</th>\n",
       "      <th>province</th>\n",
       "      <th>sourceURLs</th>\n",
       "      <th>websites</th>\n",
       "    </tr>\n",
       "  </thead>\n",
       "  <tbody>\n",
       "    <tr>\n",
       "      <th>0</th>\n",
       "      <td>AWrSh_KgsVYjT2BJAzaH</td>\n",
       "      <td>2019-05-19T23:58:05Z</td>\n",
       "      <td>2019-05-19T23:58:05Z</td>\n",
       "      <td>2555 11th Avenue</td>\n",
       "      <td>Fast Food Restaurants,Hamburgers and Hot Dogs,...</td>\n",
       "      <td>Accommodation &amp; Food Services</td>\n",
       "      <td>Greeley</td>\n",
       "      <td>US</td>\n",
       "      <td>us/co/greeley/255511thavenue/554191587</td>\n",
       "      <td>40.39629</td>\n",
       "      <td>-104.69699</td>\n",
       "      <td>Carl's Jr.</td>\n",
       "      <td>80631</td>\n",
       "      <td>CO</td>\n",
       "      <td>https://www.yellowpages.com/greeley-co/mip/car...</td>\n",
       "      <td>https://www.carlsjr.com/?utm_source=Yextandutm...</td>\n",
       "    </tr>\n",
       "    <tr>\n",
       "      <th>1</th>\n",
       "      <td>AWEKlA-LIxWefVJwxG9B</td>\n",
       "      <td>2018-01-18T18:30:23Z</td>\n",
       "      <td>2019-05-19T23:45:05Z</td>\n",
       "      <td>2513 Highway 6 And 50</td>\n",
       "      <td>Restaurant,Mexican Restaurants,Fast Food Resta...</td>\n",
       "      <td>Accommodation &amp; Food Services</td>\n",
       "      <td>Grand Junction</td>\n",
       "      <td>US</td>\n",
       "      <td>us/co/grandjunction/2513highway6and50/1550891556</td>\n",
       "      <td>39.08135</td>\n",
       "      <td>-108.58689</td>\n",
       "      <td>Del Taco</td>\n",
       "      <td>81505</td>\n",
       "      <td>CO</td>\n",
       "      <td>http://www.citysearch.com/profile/772076870/gr...</td>\n",
       "      <td>http://www.deltaco.com</td>\n",
       "    </tr>\n",
       "    <tr>\n",
       "      <th>2</th>\n",
       "      <td>AWrSfAcYsVYjT2BJAzPt</td>\n",
       "      <td>2019-05-19T23:45:04Z</td>\n",
       "      <td>2019-05-19T23:45:04Z</td>\n",
       "      <td>1125 Patterson Road</td>\n",
       "      <td>Sandwich Shops,Fast Food Restaurants,Restauran...</td>\n",
       "      <td>Accommodation &amp; Food Services</td>\n",
       "      <td>Grand Junction</td>\n",
       "      <td>US</td>\n",
       "      <td>us/co/grandjunction/1125pattersonroad/-2137447852</td>\n",
       "      <td>39.09148</td>\n",
       "      <td>-108.55411</td>\n",
       "      <td>Which Wich</td>\n",
       "      <td>81506</td>\n",
       "      <td>CO</td>\n",
       "      <td>https://www.yellowpages.com/grand-junction-co/...</td>\n",
       "      <td>http://www.whichwich.com</td>\n",
       "    </tr>\n",
       "    <tr>\n",
       "      <th>3</th>\n",
       "      <td>AWrSa3NAQTFama1Xpkbz</td>\n",
       "      <td>2019-05-19T23:26:58Z</td>\n",
       "      <td>2019-05-19T23:26:58Z</td>\n",
       "      <td>3455 N Salida Court</td>\n",
       "      <td>Fast Food Restaurants,Mexican Restaurants,Rest...</td>\n",
       "      <td>Accommodation &amp; Food Services</td>\n",
       "      <td>Aurora</td>\n",
       "      <td>US</td>\n",
       "      <td>us/co/aurora/3455nsalidacourt/1143321601</td>\n",
       "      <td>39.76369</td>\n",
       "      <td>-104.77671</td>\n",
       "      <td>Chipotle Mexican Grill</td>\n",
       "      <td>80011</td>\n",
       "      <td>CO</td>\n",
       "      <td>https://www.yellowpages.com/aurora-co/mip/chip...</td>\n",
       "      <td>http://www.chipotle.com</td>\n",
       "    </tr>\n",
       "    <tr>\n",
       "      <th>4</th>\n",
       "      <td>AWrSaVGzZ4Yw-wtdgcaB</td>\n",
       "      <td>2019-05-19T23:24:38Z</td>\n",
       "      <td>2019-05-19T23:24:38Z</td>\n",
       "      <td>5225 E Colfax Avenue</td>\n",
       "      <td>Fast Food Restaurants,Mexican Restaurants,Rest...</td>\n",
       "      <td>Accommodation &amp; Food Services</td>\n",
       "      <td>Denver</td>\n",
       "      <td>US</td>\n",
       "      <td>us/co/denver/5225ecolfaxavenue/-864103396</td>\n",
       "      <td>39.74044</td>\n",
       "      <td>-104.92636</td>\n",
       "      <td>Taco Bell</td>\n",
       "      <td>80220</td>\n",
       "      <td>CO</td>\n",
       "      <td>https://www.yellowpages.com/denver-co/mip/taco...</td>\n",
       "      <td>https://locations.tacobell.com/co/denver/5225-...</td>\n",
       "    </tr>\n",
       "  </tbody>\n",
       "</table>\n",
       "</div>"
      ],
      "text/plain": [
       "                     id             dateAdded           dateUpdated  \\\n",
       "0  AWrSh_KgsVYjT2BJAzaH  2019-05-19T23:58:05Z  2019-05-19T23:58:05Z   \n",
       "1  AWEKlA-LIxWefVJwxG9B  2018-01-18T18:30:23Z  2019-05-19T23:45:05Z   \n",
       "2  AWrSfAcYsVYjT2BJAzPt  2019-05-19T23:45:04Z  2019-05-19T23:45:04Z   \n",
       "3  AWrSa3NAQTFama1Xpkbz  2019-05-19T23:26:58Z  2019-05-19T23:26:58Z   \n",
       "4  AWrSaVGzZ4Yw-wtdgcaB  2019-05-19T23:24:38Z  2019-05-19T23:24:38Z   \n",
       "\n",
       "                 address                                         categories  \\\n",
       "0       2555 11th Avenue  Fast Food Restaurants,Hamburgers and Hot Dogs,...   \n",
       "1  2513 Highway 6 And 50  Restaurant,Mexican Restaurants,Fast Food Resta...   \n",
       "2    1125 Patterson Road  Sandwich Shops,Fast Food Restaurants,Restauran...   \n",
       "3    3455 N Salida Court  Fast Food Restaurants,Mexican Restaurants,Rest...   \n",
       "4   5225 E Colfax Avenue  Fast Food Restaurants,Mexican Restaurants,Rest...   \n",
       "\n",
       "               primaryCategories            city country  \\\n",
       "0  Accommodation & Food Services         Greeley      US   \n",
       "1  Accommodation & Food Services  Grand Junction      US   \n",
       "2  Accommodation & Food Services  Grand Junction      US   \n",
       "3  Accommodation & Food Services          Aurora      US   \n",
       "4  Accommodation & Food Services          Denver      US   \n",
       "\n",
       "                                                keys  latitude  longitude  \\\n",
       "0             us/co/greeley/255511thavenue/554191587  40.39629 -104.69699   \n",
       "1   us/co/grandjunction/2513highway6and50/1550891556  39.08135 -108.58689   \n",
       "2  us/co/grandjunction/1125pattersonroad/-2137447852  39.09148 -108.55411   \n",
       "3           us/co/aurora/3455nsalidacourt/1143321601  39.76369 -104.77671   \n",
       "4          us/co/denver/5225ecolfaxavenue/-864103396  39.74044 -104.92636   \n",
       "\n",
       "                     name postalCode province  \\\n",
       "0              Carl's Jr.      80631       CO   \n",
       "1                Del Taco      81505       CO   \n",
       "2              Which Wich      81506       CO   \n",
       "3  Chipotle Mexican Grill      80011       CO   \n",
       "4               Taco Bell      80220       CO   \n",
       "\n",
       "                                          sourceURLs  \\\n",
       "0  https://www.yellowpages.com/greeley-co/mip/car...   \n",
       "1  http://www.citysearch.com/profile/772076870/gr...   \n",
       "2  https://www.yellowpages.com/grand-junction-co/...   \n",
       "3  https://www.yellowpages.com/aurora-co/mip/chip...   \n",
       "4  https://www.yellowpages.com/denver-co/mip/taco...   \n",
       "\n",
       "                                            websites  \n",
       "0  https://www.carlsjr.com/?utm_source=Yextandutm...  \n",
       "1                             http://www.deltaco.com  \n",
       "2                           http://www.whichwich.com  \n",
       "3                            http://www.chipotle.com  \n",
       "4  https://locations.tacobell.com/co/denver/5225-...  "
      ]
     },
     "execution_count": 4,
     "metadata": {},
     "output_type": "execute_result"
    }
   ],
   "source": [
    "food_data = pd.read_csv('./fast_food/Datafiniti_Fast_Food_Restaurants_May19.csv')\n",
    "food_data.head()"
   ]
  },
  {
   "cell_type": "code",
   "execution_count": 5,
   "metadata": {},
   "outputs": [
    {
     "data": {
      "text/plain": [
       "id                    object\n",
       "dateAdded             object\n",
       "dateUpdated           object\n",
       "address               object\n",
       "categories            object\n",
       "primaryCategories     object\n",
       "city                  object\n",
       "country               object\n",
       "keys                  object\n",
       "latitude             float64\n",
       "longitude            float64\n",
       "name                  object\n",
       "postalCode            object\n",
       "province              object\n",
       "sourceURLs            object\n",
       "websites              object\n",
       "dtype: object"
      ]
     },
     "execution_count": 5,
     "metadata": {},
     "output_type": "execute_result"
    }
   ],
   "source": [
    "food_data.dtypes"
   ]
  },
  {
   "cell_type": "code",
   "execution_count": 6,
   "metadata": {},
   "outputs": [
    {
     "data": {
      "text/plain": [
       "(10000, 16)"
      ]
     },
     "execution_count": 6,
     "metadata": {},
     "output_type": "execute_result"
    }
   ],
   "source": [
    "food_data.shape"
   ]
  },
  {
   "cell_type": "code",
   "execution_count": 9,
   "metadata": {},
   "outputs": [],
   "source": [
    "# drop ids, sourceURL, websites and keys\n",
    "\n",
    "food_data = food_data.drop(['id', 'keys', 'sourceURLs', 'websites'], axis=1)"
   ]
  },
  {
   "cell_type": "code",
   "execution_count": 10,
   "metadata": {},
   "outputs": [
    {
     "data": {
      "text/plain": [
       "(10000, 12)"
      ]
     },
     "execution_count": 10,
     "metadata": {},
     "output_type": "execute_result"
    }
   ],
   "source": [
    "# dimension after droping columns\n",
    "\n",
    "food_data.shape"
   ]
  },
  {
   "cell_type": "markdown",
   "metadata": {},
   "source": [
    "### Check for missing data"
   ]
  },
  {
   "cell_type": "code",
   "execution_count": 13,
   "metadata": {},
   "outputs": [],
   "source": [
    "def missing_values_describe(data):\n",
    "    missing_values = (data.isnull().sum() / len(data)*100)\n",
    "    missing_values_count = sum(missing_values > 0)\n",
    "    missing_values = missing_values.sort_values(ascending=False)[:missing_values_count]\n",
    "    \n",
    "    print(\"Number of missing values count: \", missing_values_count)\n",
    "    \n",
    "    if missing_values_count != 0:\n",
    "        print(\"Missing Values Percentage: \")\n",
    "        print(missing_values)\n",
    "        \n",
    "    else:\n",
    "        print(\"No Missing Data\")"
   ]
  },
  {
   "cell_type": "code",
   "execution_count": 14,
   "metadata": {},
   "outputs": [
    {
     "name": "stdout",
     "output_type": "stream",
     "text": [
      "Number of missing values count:  0\n",
      "No Missing Data\n"
     ]
    }
   ],
   "source": [
    "missing_values_describe(food_data)"
   ]
  },
  {
   "cell_type": "markdown",
   "metadata": {},
   "source": [
    "### Exploring Data"
   ]
  },
  {
   "cell_type": "code",
   "execution_count": 15,
   "metadata": {},
   "outputs": [
    {
     "name": "stdout",
     "output_type": "stream",
     "text": [
      "Number of unique restaurant names:  1545\n"
     ]
    }
   ],
   "source": [
    "# number of unique names\n",
    "\n",
    "print(\"Number of unique restaurant names: \", food_data['name'].nunique())"
   ]
  },
  {
   "cell_type": "code",
   "execution_count": 21,
   "metadata": {},
   "outputs": [
    {
     "data": {
      "image/png": "[encoded data removed]",
      "text/plain": [
       "<Figure size 1440x720 with 1 Axes>"
      ]
     },
     "metadata": {
      "needs_background": "light"
     },
     "output_type": "display_data"
    }
   ],
   "source": [
    "# top 20 recorded fast food restaurant\n",
    "\n",
    "import matplotlib.pyplot as plt\n",
    "plt.figure(figsize=(20,10))\n",
    "nameplot = food_data['name'].value_counts()[:20].plot.bar(title=\"Top 20 Restaurants\")\n",
    "nameplot.set_xlabel('Name',size=20)\n",
    "nameplot.set_ylabel('Count',size=20);"
   ]
  },
  {
   "cell_type": "code",
   "execution_count": 25,
   "metadata": {},
   "outputs": [
    {
     "name": "stdout",
     "output_type": "stream",
     "text": [
      "Number of Unique Cities:  2810\n"
     ]
    },
    {
     "data": {
      "text/plain": [
       "Text(0,0.5,'Count')"
      ]
     },
     "execution_count": 25,
     "metadata": {},
     "output_type": "execute_result"
    },
    {
     "data": {
      "image/png": "[encoded data removed]",
      "text/plain": [
       "<Figure size 1440x720 with 1 Axes>"
      ]
     },
     "metadata": {
      "needs_background": "light"
     },
     "output_type": "display_data"
    }
   ],
   "source": [
    "# top 20 cities in terms of count of fast food restaurants\n",
    "plt.figure(figsize=(20,10))\n",
    "print(\"Number of Unique Cities: \", food_data['city'].nunique())\n",
    "nameplot = food_data['city'].value_counts()[:20].plot.bar(title=\"Top 20 Cities\")\n",
    "nameplot.set_xlabel('City',size=30)\n",
    "nameplot.set_ylabel('Count', size=30)"
   ]
  },
  {
   "cell_type": "code",
   "execution_count": 27,
   "metadata": {},
   "outputs": [
    {
     "data": {
      "text/plain": [
       "count    2810.000000\n",
       "mean        3.558719\n",
       "std         6.260422\n",
       "min         1.000000\n",
       "25%         1.000000\n",
       "50%         2.000000\n",
       "75%         3.000000\n",
       "max       105.000000\n",
       "Name: city, dtype: float64"
      ]
     },
     "execution_count": 27,
     "metadata": {},
     "output_type": "execute_result"
    }
   ],
   "source": [
    "# restaurants by city, find out mean and median\n",
    "\n",
    "restaurant_count_city = food_data['city'].value_counts()\n",
    "restaurant_count_city.describe()"
   ]
  },
  {
   "cell_type": "code",
   "execution_count": 28,
   "metadata": {},
   "outputs": [
    {
     "name": "stdout",
     "output_type": "stream",
     "text": [
      "2121 cities opened with less than 4 fast food restaurants.\n"
     ]
    }
   ],
   "source": [
    "# cities with less than 4 restaurants\n",
    "\n",
    "print(len(restaurant_count_city[restaurant_count_city < 4]), \"cities opened with less than 4 fast food restaurants.\")"
   ]
  },
  {
   "cell_type": "code",
   "execution_count": 35,
   "metadata": {},
   "outputs": [
    {
     "data": {
      "image/png": "[encoded data removed]",
      "text/plain": [
       "<Figure size 432x288 with 1 Axes>"
      ]
     },
     "metadata": {},
     "output_type": "display_data"
    }
   ],
   "source": [
    "# plot pie chart\n",
    "fig, ax = plt.subplots()\n",
    "total_cities_with_less_than_4_rests = len(restaurant_count_city[restaurant_count_city < 4])\n",
    "total_cities_with_greater_equal_4_rests = food_data['city'].nunique() - total_cities_with_less_than_4_rests\n",
    "values = [total_cities_with_less_than_4_rests, total_cities_with_greater_equal_4_rests]\n",
    "ax.pie(values, \n",
    "       labels=[\"city with 1-3 shops\", \"cities with more than 3 shops\"], autopct='%.1f%%', radius=1, \n",
    "       explode = (0.1, 0))\n",
    "ax.set_aspect('equal')\n",
    "ax.set_title(\"US Cities' Fast Food Restaurants Number\")\n",
    "plt.show()"
   ]
  },
  {
   "cell_type": "code",
   "execution_count": null,
   "metadata": {},
   "outputs": [],
   "source": []
  }
 ],
 "metadata": {
  "kernelspec": {
   "display_name": "Python 3",
   "language": "python",
   "name": "python3"
  },
  "language_info": {
   "codemirror_mode": {
    "name": "ipython",
    "version": 3
   },
   "file_extension": ".py",
   "mimetype": "text/x-python",
   "name": "python",
   "nbconvert_exporter": "python",
   "pygments_lexer": "ipython3",
   "version": "3.7.3"
  }
 },
 "nbformat": 4,
 "nbformat_minor": 2
}
